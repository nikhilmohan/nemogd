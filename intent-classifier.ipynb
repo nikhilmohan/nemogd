{
 "cells": [
  {
   "cell_type": "markdown",
   "id": "922f094f-e0e1-4c89-af1c-0a605f071ebc",
   "metadata": {},
   "source": [
    "What is the most problematic site?\n",
    "What is the most problematic node?\n",
    "What are the top affected nodes in the site Z?\n",
    "What are the recently correlated alarms?\n",
    "What are the top reported alarms in the node A?\n",
    "Have any anomalies been reported on the node B?\n",
    "What are the top affected sites?\n",
    "How to resolve the alarm BGP session down?\n",
    "Why does the alarm BFD session down occur?\n",
    "Why does the link down alarm occur?\n",
    "Monitor the network using RSRP and SINR metrics and ensure network is stable\n",
    "Raise a high priority ticket when alarm X and alarm Y are reported within a span of 5 minutes\n",
    "Provide the details of alarms reported in site A over last 2 hours?\n",
    "Get the list of devices with license expiry due in 1 month\n",
    "Monitor bandwidth utilization metric in devices of type C, verify the configuration parameters of misbaving devices and update the configurations once found\n",
    "What are the sites having devices that have the risk of capacity overruns"
   ]
  },
  {
   "cell_type": "code",
   "execution_count": 1,
   "id": "30cf40c8-486c-4cbf-9d56-ab355d052935",
   "metadata": {},
   "outputs": [],
   "source": [
    "from langchain.prompts import ChatPromptTemplate,FewShotChatMessagePromptTemplate\n",
    "from langchain_openai import ChatOpenAI, OpenAIEmbeddings\n",
    "from langchain_chroma import Chroma\n",
    "from langchain.output_parsers.list import ListOutputParser\n",
    "from langchain.output_parsers import CommaSeparatedListOutputParser"
   ]
  },
  {
   "cell_type": "code",
   "execution_count": 2,
   "id": "70210359-dc67-49ef-91bb-5aece9e75fc0",
   "metadata": {},
   "outputs": [
    {
     "data": {
      "text/plain": [
       "'Your response should be a list of comma separated values, eg: `foo, bar, baz` or `foo,bar,baz`'"
      ]
     },
     "execution_count": 2,
     "metadata": {},
     "output_type": "execute_result"
    }
   ],
   "source": [
    "output_parser = CommaSeparatedListOutputParser()\n",
    "format_instructions = output_parser.get_format_instructions()\n",
    "format_instructions"
   ]
  },
  {
   "cell_type": "code",
   "execution_count": 3,
   "id": "303aa353-b9a1-4d43-9c6e-b83c4aee40de",
   "metadata": {},
   "outputs": [],
   "source": [
    "examples = [\n",
    "    {\"input\": \"What is the most problematic site\", \"output\": [\"find the most problematic site\"]},\n",
    "    {\"input\": \"What is the most problematic node\", \"output\": [\"find the most problematic node\"]},\n",
    "    {\"input\": \"What are the recent correlated alarms\", \"output\": [\"find the recent correlated alarms\"]},\n",
    "    {\"input\": \"What are the top affected nodes in site abc\", \"output\": [\"find the top affected nodes in a specific site\"]},\n",
    "    {\"input\": \"What are the top reported alarms in node xyz\", \"output\": [\"find the top reported alarms in a specific node\"]},\n",
    "    {\"input\": \"What are the sites having devices that have the risk of capacity overruns\", \"output\": [\"find the sites with devices having risk of capacity overruns\"]},\n",
    "    {\"input\": \"\"\"Monitor bandwidth utilization metric in devices of type C, \n",
    "    verify the configuration parameters of misbehaving devices \n",
    "    and update the configurations once found\"\"\", \"output\": [\"monitor specific metric in devices of a specific type\", \n",
    "    \"verify the configuration parameters of misbehaving devices\", \"update the configurations once found\"]},\n",
    "    {\"input\": \"Provide the details of alarms reported in site A over last 2 hours?\", \"output\": [\"find the alarms reported in site A over a specific time period\"]},\n",
    "    {\"input\": \"Monitor the network using RSRP and SINR metrics and ensure network is stable\", \"output\": [\"Monitor the network using specific metrics\", \n",
    "     \"ensure network is stable\"]},\n",
    "    {\"input\": \"Raise a high priority ticket when alarm X and alarm Y are reported within a span of 5 minutes\", \n",
    "     \"output\": [\"Raise a high priority ticket when specific are reported within a specific time period\"]}\n",
    "]"
   ]
  },
  {
   "cell_type": "code",
   "execution_count": 4,
   "id": "d467fa6b-0b32-4c92-966f-eecdb021ccdd",
   "metadata": {},
   "outputs": [],
   "source": [
    "example_prompt = ChatPromptTemplate.from_messages(\n",
    "    [\n",
    "        \n",
    "        (\"human\", \"{input}\"),\n",
    "        (\"ai\", \"{output}\"),\n",
    "    ]\n",
    ")"
   ]
  },
  {
   "cell_type": "code",
   "execution_count": 5,
   "id": "1db05acd-6013-467d-821b-1e2a222dac12",
   "metadata": {},
   "outputs": [],
   "source": [
    "few_shot_prompt = FewShotChatMessagePromptTemplate(\n",
    "    example_prompt=example_prompt,\n",
    "    examples=examples,\n",
    ")"
   ]
  },
  {
   "cell_type": "code",
   "execution_count": 6,
   "id": "5e29677c-4ac8-41c9-985a-8485b9c7300f",
   "metadata": {},
   "outputs": [],
   "source": [
    "prompt_template = ChatPromptTemplate.from_messages(\n",
    "    [\n",
    "        (\"system\", \"\"\"You are an expert network engineer who is provided with a user intent of the tasks to do. Your responsibility is to\n",
    "        analyse the intent and break it down into individual task descriptions that the team can work on. \n",
    "        'Your response should be a list of comma separated values, eg: `foo, bar, baz` or `foo,bar,baz`'\n",
    "        \"\"\"),\n",
    "        few_shot_prompt,\n",
    "        (\"human\", \"{input}\"),\n",
    "    ]\n",
    ")"
   ]
  },
  {
   "cell_type": "code",
   "execution_count": 7,
   "id": "6a81933b-df55-4658-9b17-91acd9390e8a",
   "metadata": {},
   "outputs": [],
   "source": [
    "prompt = prompt_template.format(input=\"\"\"Monitor bandwidth utilization metric in devices on site A and site B, \n",
    "    verify the configuration parameters of misbehaving devices \n",
    "    and update the configurations if found\"\"\")"
   ]
  },
  {
   "cell_type": "code",
   "execution_count": 8,
   "id": "b17ab0e9-6fe7-4428-ae78-627934a4dba2",
   "metadata": {},
   "outputs": [],
   "source": [
    "model = ChatOpenAI()\n",
    "response=model.invoke(prompt)"
   ]
  },
  {
   "cell_type": "code",
   "execution_count": 9,
   "id": "e3f74b0e-c859-41cd-b517-cfe01488e85d",
   "metadata": {},
   "outputs": [
    {
     "data": {
      "text/plain": [
       "\"AI: ['monitor specific metric in devices on specific sites', 'verify the configuration parameters of misbehaving devices', 'update the configurations if found']\""
      ]
     },
     "execution_count": 9,
     "metadata": {},
     "output_type": "execute_result"
    }
   ],
   "source": [
    "response.content"
   ]
  },
  {
   "cell_type": "code",
   "execution_count": 10,
   "id": "7c3f6fb5-93a7-4ce5-bab2-2ab4535a2bd3",
   "metadata": {},
   "outputs": [],
   "source": [
    "embeddings = OpenAIEmbeddings()\n",
    "docs = [\n",
    "    \"Find the most problematic site?\",\n",
    "    \"Find the problematic node?\",\n",
    "    \"Find the top affected nodes in a specific site?\",\n",
    "    \"Find the recently correlated alarms?\",\n",
    "    \"Find the top reported alarms in a specific node?\",\n",
    "    \"Find if any anomalies have been reported on a specific node?\",\n",
    "    \"Find the top affected sites?\",\n",
    "    \"How to resolve the a specific alarm\",\n",
    "    \"Why does a specific alarm occur?\",\n",
    "    \"Monitor the network using specific metrics\",\n",
    "    \"Ensure network is stable\",\n",
    "    \"Raise a high priority ticket when specific alarms are reported within a specific time period\",\n",
    "    \"Provide the details of alarms reported in a specific site over a specific time period\",\n",
    "    \"Find the list of devices with license expiry due in a specific time period\",\n",
    "    \"Monitor a specific metric in devices of specific type\",\n",
    "    \"Verify the configuration parameters of misbaving devices\",\n",
    "    \"Update the device configurations\",\n",
    "    \"What are the sites having devices that have the risk of capacity overruns\"\n",
    "]"
   ]
  },
  {
   "cell_type": "code",
   "execution_count": 11,
   "id": "67e73a30-8512-4e31-be8b-b4d6753e27b7",
   "metadata": {},
   "outputs": [],
   "source": [
    "vec_store = Chroma.from_texts(texts = docs, embedding = embeddings)"
   ]
  },
  {
   "cell_type": "code",
   "execution_count": 12,
   "id": "44527fcc-b05e-41b4-9100-7bc3969bf545",
   "metadata": {},
   "outputs": [
    {
     "data": {
      "text/plain": [
       "[Document(page_content='Why does a specific alarm occur?'),\n",
       " Document(page_content='Ensure network is stable'),\n",
       " Document(page_content='Find the problematic node?')]"
      ]
     },
     "execution_count": 12,
     "metadata": {},
     "output_type": "execute_result"
    }
   ],
   "source": [
    "vec_store.similarity_search('Why does link down occur', 3)"
   ]
  },
  {
   "cell_type": "code",
   "execution_count": null,
   "id": "9e3071e8-379a-4ce0-94e2-1ddf93888121",
   "metadata": {},
   "outputs": [],
   "source": []
  }
 ],
 "metadata": {
  "kernelspec": {
   "display_name": "Python 3 (ipykernel)",
   "language": "python",
   "name": "python3"
  },
  "language_info": {
   "codemirror_mode": {
    "name": "ipython",
    "version": 3
   },
   "file_extension": ".py",
   "mimetype": "text/x-python",
   "name": "python",
   "nbconvert_exporter": "python",
   "pygments_lexer": "ipython3",
   "version": "3.11.11"
  }
 },
 "nbformat": 4,
 "nbformat_minor": 5
}
